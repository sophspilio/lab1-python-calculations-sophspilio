{
  "nbformat": 4,
  "nbformat_minor": 0,
  "metadata": {
    "colab": {
      "name": "sophie_spilio_lab1.ipynb",
      "provenance": [],
      "collapsed_sections": [],
      "authorship_tag": "ABX9TyNuoVaPwwx+Qqu5hQuv2OjC",
      "include_colab_link": true
    },
    "kernelspec": {
      "name": "python3",
      "display_name": "Python 3"
    }
  },
  "cells": [
    {
      "cell_type": "markdown",
      "metadata": {
        "id": "view-in-github",
        "colab_type": "text"
      },
      "source": [
        "<a href=\"https://colab.research.google.com/github/IDCE-MSGIS/lab1-python-calculations-sophspilio/blob/master/sophie_spilio_lab1.ipynb\" target=\"_parent\"><img src=\"https://colab.research.google.com/assets/colab-badge.svg\" alt=\"Open In Colab\"/></a>"
      ]
    },
    {
      "cell_type": "markdown",
      "metadata": {
        "id": "bOpHUlDwEuod",
        "colab_type": "text"
      },
      "source": [
        "# IDCE 302  Lab 1: Calculations with Python \n",
        "Due Friday, Sept 4 "
      ]
    },
    {
      "cell_type": "code",
      "metadata": {
        "id": "jDDrhVLyFSxs",
        "colab_type": "code",
        "colab": {
          "base_uri": "https://localhost:8080/",
          "height": 85
        },
        "outputId": "b51780d9-5e37-42ba-e8f0-20ddfabd3c98"
      },
      "source": [
        "'''\n",
        "Sophie Spiliotopoulos \n",
        "Created Aug 28, 2020\n",
        "Python 3.6.7\n",
        "Lab 1: Calculating rainfall and runoff for a plot in Kenya\n",
        "'''\n",
        "#identify variables of plot \n",
        "length_ft = 50 \n",
        "width_ft = 20 \n",
        "area_ft = length_ft * width_ft\n",
        "\n",
        "#convert variables from feet to inches \n",
        "length_in = length_ft * 12\n",
        "width_in = width_ft * 12\n",
        "area_in = length_in * width_in\n",
        "\n",
        "#amount of rainfall after 1-inch rainstorm in cubic inches \n",
        "rainfall_in = length_in * width_in * 1\n",
        "runoff_gallons = rainfall_in / 231\n",
        "round (runoff_gallons, 2)\n",
        "\n",
        "# display final values\n",
        "print ('plot_length is:', length_in)\n",
        "print ('plot_width is:', width_in)\n",
        "print ('rainfall_inches is:', rainfall_in)\n",
        "print ('runoff_gallons is:', round (runoff_gallons, 2) )"
      ],
      "execution_count": 8,
      "outputs": [
        {
          "output_type": "stream",
          "text": [
            "plot_length is: 600\n",
            "plot_width is: 240\n",
            "rainfall_inches is: 144000\n",
            "runoff_gallons is: 623.38\n"
          ],
          "name": "stdout"
        }
      ]
    }
  ]
}